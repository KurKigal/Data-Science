{
 "cells": [
  {
   "cell_type": "markdown",
   "metadata": {},
   "source": [
    "## WHAT IS SCIKIT-LEARN\n"
   ]
  },
  {
   "cell_type": "markdown",
   "metadata": {},
   "source": [
    "Scikit-Learn is one of the most popular machine learning libraries in Python. It provides simple and efficient tools for data mining and machine learning tasks such as classification, regression, clustering, dimensionality reduction, and model selection.\n",
    "\n",
    "Scikit-Learn is built on top of NumPy, SciPy, and Matplotlib, ensuring high performance and compatibility with the Python ecosystem."
   ]
  },
  {
   "cell_type": "markdown",
   "metadata": {},
   "source": [
    "### WHY SCIKIT-LEARN\n"
   ]
  },
  {
   "cell_type": "markdown",
   "metadata": {},
   "source": [
    "#### Comprehensive Tools\n",
    "It offers a wide range of algorithms for supervised and unsupervised learning.\n",
    "\n",
    "#### Easy to Use\n",
    "Scikit-Learn is designed to be user-friendly with a consistent API for machine learning tasks.\n",
    "\n",
    "#### Integration\n",
    "It integrates well with other libraries like Pandas and NumPy for preprocessing and analysis."
   ]
  },
  {
   "cell_type": "markdown",
   "metadata": {},
   "source": [
    "### COMMON TASKS IN SCIKIT-LEARN\n",
    "- **Classification**: Identify labels for new observations (e.g., Random Forest, Support Vector Machines).\n",
    "- **Regression**: Predict continuous outputs (e.g., Linear Regression).\n",
    "- **Clustering**: Group data into clusters (e.g., K-Means).\n",
    "- **Dimensionality Reduction**: Reduce data complexity (e.g., PCA).\n"
   ]
  }
 ],
 "metadata": {
  "kernelspec": {
   "display_name": "Python 3",
   "language": "python",
   "name": "python3"
  },
  "language_info": {
   "codemirror_mode": {
    "name": "ipython",
    "version": 3
   },
   "file_extension": ".py",
   "mimetype": "text/x-python",
   "name": "python",
   "nbconvert_exporter": "python",
   "pygments_lexer": "ipython3",
   "version": "3.8.5"
  }
 },
 "nbformat": 4,
 "nbformat_minor": 4
}
